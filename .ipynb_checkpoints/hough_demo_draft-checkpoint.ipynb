{
 "cells": [
  {
   "cell_type": "code",
   "execution_count": 1,
   "metadata": {
    "collapsed": false
   },
   "outputs": [
    {
     "name": "stdout",
     "output_type": "stream",
     "text": [
      "Using matplotlib backend: Qt4Agg\n",
      "Populating the interactive namespace from numpy and matplotlib\n"
     ]
    }
   ],
   "source": [
    "%pylab\n",
    "close('all')\n",
    "import PolarX.base_lib as bl\n",
    "import pickle\n",
    "import xarray as xr\n",
    "import scipy as sp\n",
    "import numpy as np\n",
    "plt.style.use('ggplot')\n",
    "\n",
    "import rasmus_lib as rl\n",
    "\n",
    "import skimage\n",
    "\n",
    "def plotStuff(img,y,x,radius=100):\n",
    "    imgGray = skimage.color.gray2rgb(img)\n",
    "    cx, cy = skimage.draw.circle_perimeter(y, x, radius)\n",
    "    imgGray[cy, cx] = (220, 20, 20)\n",
    "    imshow(imgGray)\n",
    "    plt.plot(y,x,'.',markersize=12)"
   ]
  },
  {
   "cell_type": "code",
   "execution_count": 2,
   "metadata": {
    "collapsed": false
   },
   "outputs": [],
   "source": [
    "# import images to test\n",
    "img = sp.misc.imread(\"circleReal.png\", mode = 'L')\n",
    "img = img[20:390,40:390]\n",
    "hough_radii = arange(95,105,1)\n",
    "\n",
    "#img1 = -sp.misc.imread(\"circle.png\", mode = 'L')\n",
    "#hough_radii = arange(160,185,5)"
   ]
  },
  {
   "cell_type": "code",
   "execution_count": 3,
   "metadata": {
    "collapsed": false
   },
   "outputs": [],
   "source": [
    "# Gaussian filtration and sobel kernel filtering\n",
    "sig_gauss = 5 # should be function input\n",
    "\n",
    "# Can this be done as a pipeline??\n",
    "img_sobel = skimage.filters.sobel(skimage.filters.gaussian(img,sigma=sig_gauss))"
   ]
  },
  {
   "cell_type": "markdown",
   "metadata": {},
   "source": [
    "Know any good ways of defining a threshold from the histogram below? (maybe sort the values and set it at the median or Q1?)"
   ]
  },
  {
   "cell_type": "code",
   "execution_count": 4,
   "metadata": {
    "collapsed": false
   },
   "outputs": [
    {
     "data": {
      "text/plain": [
       "0.018433254877614658"
      ]
     },
     "execution_count": 4,
     "metadata": {},
     "output_type": "execute_result"
    }
   ],
   "source": [
    "# inspect values for estimating threshold\n",
    "#figure()\n",
    "#plt.hist(ravel(img_sobel));\n",
    "\n",
    "figure()\n",
    "mySort = sort(ravel(img_sobel))\n",
    "plot(mySort)\n",
    "\n",
    "myInt = int(mySort.size*0.9)\n",
    "\n",
    "mySort[myInt]"
   ]
  },
  {
   "cell_type": "code",
   "execution_count": 5,
   "metadata": {
    "collapsed": false
   },
   "outputs": [
    {
     "data": {
      "text/plain": [
       "<matplotlib.image.AxesImage at 0x280855fd3c8>"
      ]
     },
     "execution_count": 5,
     "metadata": {},
     "output_type": "execute_result"
    }
   ],
   "source": [
    "# make sure threshold is valid\n",
    "# Maybe do weighed transform instead of binary thresholding?\n",
    "edges = img_sobel>mySort[myInt]\n",
    "figure()\n",
    "imshow(edges)"
   ]
  },
  {
   "cell_type": "code",
   "execution_count": null,
   "metadata": {
    "collapsed": true
   },
   "outputs": [],
   "source": []
  },
  {
   "cell_type": "code",
   "execution_count": 6,
   "metadata": {
    "collapsed": false
   },
   "outputs": [],
   "source": [
    "hough_res = skimage.transform.hough_circle(edges, hough_radii)\n",
    "res = np.mean(hough_res,0)\n"
   ]
  },
  {
   "cell_type": "code",
   "execution_count": null,
   "metadata": {
    "collapsed": false
   },
   "outputs": [],
   "source": []
  },
  {
   "cell_type": "code",
   "execution_count": null,
   "metadata": {
    "collapsed": false
   },
   "outputs": [],
   "source": []
  },
  {
   "cell_type": "code",
   "execution_count": 8,
   "metadata": {
    "collapsed": false
   },
   "outputs": [],
   "source": [
    "peaks_max = np.max(hough_res)\n",
    "\n",
    "# find index of max point in hough_res\n",
    "max_radius_index, y, x = unravel_index(hough_res.argmax(), hough_res.shape)\n",
    "\n",
    "figure()\n",
    "plotStuff(img,x,y,hough_radii[max_radius_index])"
   ]
  },
  {
   "cell_type": "code",
   "execution_count": null,
   "metadata": {
    "collapsed": false
   },
   "outputs": [],
   "source": []
  }
 ],
 "metadata": {
  "kernelspec": {
   "display_name": "Python [Root]",
   "language": "python",
   "name": "Python [Root]"
  },
  "language_info": {
   "codemirror_mode": {
    "name": "ipython",
    "version": 3
   },
   "file_extension": ".py",
   "mimetype": "text/x-python",
   "name": "python",
   "nbconvert_exporter": "python",
   "pygments_lexer": "ipython3",
   "version": "3.5.2"
  }
 },
 "nbformat": 4,
 "nbformat_minor": 0
}
